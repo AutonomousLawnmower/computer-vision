{
  "cells": [
    {
      "cell_type": "markdown",
      "metadata": {
        "id": "X3QTVQ-MeLv7"
      },
      "source": [
        "<a href=\"https://colab.research.google.com/github/khanhlvg/tflite_raspberry_pi/blob/main/object_detection/Train_custom_model_tutorial.ipynb\" target=\"_parent\"><img src=\"https://colab.research.google.com/assets/colab-badge.svg\" alt=\"Open In Colab\"/></a>"
      ]
    },
    {
      "cell_type": "markdown",
      "metadata": {
        "id": "gf2if_fGDaWc"
      },
      "source": [
        "##### Copyright 2021 The TensorFlow Authors."
      ]
    },
    {
      "cell_type": "code",
      "execution_count": null,
      "metadata": {
        "cellView": "form",
        "id": "jrmj83afDJrv"
      },
      "outputs": [],
      "source": [
        "#@title Licensed under the Apache License, Version 2.0 (the \"License\");\n",
        "# you may not use this file except in compliance with the License.\n",
        "# You may obtain a copy of the License at\n",
        "#\n",
        "# https://www.apache.org/licenses/LICENSE-2.0\n",
        "#\n",
        "# Unless required by applicable law or agreed to in writing, software\n",
        "# distributed under the License is distributed on an \"AS IS\" BASIS,\n",
        "# WITHOUT WARRANTIES OR CONDITIONS OF ANY KIND, either express or implied.\n",
        "# See the License for the specific language governing permissions and\n",
        "# limitations under the License."
      ]
    },
    {
      "cell_type": "markdown",
      "metadata": {
        "id": "PpJEzDG6DK2Q"
      },
      "source": [
        "# Train a custom object detection model with TensorFlow Lite Model Maker\n",
        "\n",
        "In this colab notebook, you'll learn how to use the [TensorFlow Lite Model Maker](https://www.tensorflow.org/lite/guide/model_maker) to train a custom object detection model to detect Android figurines and how to put the model on a Raspberry Pi.\n",
        "\n",
        "The Model Maker library uses *transfer learning* to simplify the process of training a TensorFlow Lite model using a custom dataset. Retraining a TensorFlow Lite model with your own custom dataset reduces the amount of training data required and will shorten the training time.\n"
      ]
    },
    {
      "cell_type": "markdown",
      "metadata": {
        "id": "BRYjtwRZGBOI"
      },
      "source": [
        "## Preparation\n",
        "\n",
        "### Install the required packages\n",
        "Start by installing the required packages, including the Model Maker package from the [GitHub repo](https://github.com/tensorflow/examples/tree/master/tensorflow_examples/lite/model_maker) and the pycocotools library you'll use for evaluation."
      ]
    },
    {
      "cell_type": "code",
      "execution_count": null,
      "metadata": {
        "id": "35BJmtVpAP_n"
      },
      "outputs": [],
      "source": [
        "!pip install -q tflite-model-maker\n",
        "!pip install -q tflite-support"
      ]
    },
    {
      "cell_type": "markdown",
      "metadata": {
        "id": "prQ86DdtD317"
      },
      "source": [
        "Import the required packages."
      ]
    },
    {
      "cell_type": "code",
      "execution_count": null,
      "metadata": {
        "id": "l4QQTXHHATDS"
      },
      "outputs": [],
      "source": [
        "import numpy as np\n",
        "import os\n",
        "\n",
        "from tflite_model_maker.config import ExportFormat, QuantizationConfig\n",
        "from tflite_model_maker import model_spec\n",
        "from tflite_model_maker import object_detector\n",
        "\n",
        "from tflite_support import metadata\n",
        "\n",
        "import tensorflow as tf\n",
        "assert tf.__version__.startswith('2')\n",
        "\n",
        "tf.get_logger().setLevel('ERROR')\n",
        "from absl import logging\n",
        "logging.set_verbosity(logging.ERROR)"
      ]
    },
    {
      "cell_type": "markdown",
      "metadata": {
        "id": "3g6aQvXsD78P"
      },
      "source": [
        "### Prepare the dataset\n",
        "\n",
        "We start with downloading the dataset."
      ]
    },
    {
      "cell_type": "code",
      "source": [
        "# !wget https://github.com/Talonee/Portal/raw/main/pi/grass.zip\n",
        "# !unzip -q grass.zip\n"
      ],
      "metadata": {
        "id": "5bU4AO7WixOt",
        "outputId": "4e6e44b2-b956-49e1-8e94-9fee7a959771",
        "colab": {
          "base_uri": "https://localhost:8080/"
        }
      },
      "execution_count": null,
      "outputs": [
        {
          "output_type": "stream",
          "name": "stdout",
          "text": [
            "Archive:  /content/drive/MyDrive/grass.zip\n",
            "replace sdp/validate/104.jpg? [y]es, [n]o, [A]ll, [N]one, [r]ename: "
          ]
        }
      ]
    },
    {
      "cell_type": "markdown",
      "metadata": {
        "id": "Yxh3KInCFeB-"
      },
      "source": [
        "## Train the object detection model\n",
        "\n",
        "### Step 1: Load the dataset\n",
        "\n",
        "* Images in `train_data` is used to train the custom object detection model.\n",
        "* Images in `val_data` is used to check if the model can generalize well to new images that it hasn't seen before."
      ]
    },
    {
      "cell_type": "code",
      "source": [
        "train_data = object_detector.DataLoader.from_pascal_voc(\n",
        "    'grass/train',\n",
        "    'grass/train',\n",
        "    ['grass']\n",
        ")\n",
        "\n",
        "val_data = object_detector.DataLoader.from_pascal_voc(\n",
        "    'grass/validate',\n",
        "    'grass/validate',\n",
        "    ['grass']\n",
        ")"
      ],
      "metadata": {
        "id": "JCGhcyp7i3Rz"
      },
      "execution_count": null,
      "outputs": []
    },
    {
      "cell_type": "code",
      "source": [
        "# importing the module\n",
        "from PIL import Image\n",
        "import os\n",
        "from os import listdir\n",
        "from os.path import isfile, join\n",
        "import re\n",
        "\n",
        "dir = \"grass/train/\"\n",
        "\n",
        "for f in listdir(dir):\n",
        "    if (isfile(f\"{dir}{f}\") and re.search(\"jpg$\", f)):\n",
        "        # importing the image \n",
        "        im = Image.open(f\"{dir}{f}\")\n",
        "\n",
        "        # re-convert to jpg, pure jpg downloads from google isn't recognized\n",
        "        rgb_im = im.convert(\"RGB\")\n",
        "\n",
        "        # exporting the image\n",
        "        rgb_im.save(f\"{dir}{f}\")"
      ],
      "metadata": {
        "id": "-j6TK9G3kujF"
      },
      "execution_count": null,
      "outputs": []
    },
    {
      "cell_type": "code",
      "source": [
        "print(f\"{len(train_data)}\\n{len(val_data)}\")"
      ],
      "metadata": {
        "id": "WHwPrczQibeN",
        "outputId": "06769a6b-d6d9-419b-e05b-497c09b7da92",
        "colab": {
          "base_uri": "https://localhost:8080/"
        }
      },
      "execution_count": null,
      "outputs": [
        {
          "output_type": "stream",
          "name": "stdout",
          "text": [
            "111\n",
            "23\n"
          ]
        }
      ]
    },
    {
      "cell_type": "markdown",
      "metadata": {
        "id": "UNRhB8N7GHXj"
      },
      "source": [
        "### Step 2: Select a model architecture\n",
        "\n",
        "EfficientDet-Lite[0-4] are a family of mobile/IoT-friendly object detection models derived from the [EfficientDet](https://arxiv.org/abs/1911.09070) architecture.\n",
        "\n",
        "Here is the performance of each EfficientDet-Lite models compared to each others.\n",
        "\n",
        "| Model architecture | Size(MB)* | Latency(ms)** | Average Precision*** |\n",
        "|--------------------|-----------|---------------|----------------------|\n",
        "| EfficientDet-Lite0 | 4.4       | 146           | 25.69%               |\n",
        "| EfficientDet-Lite1 | 5.8       | 259           | 30.55%               |\n",
        "| EfficientDet-Lite2 | 7.2       | 396           | 33.97%               |\n",
        "| EfficientDet-Lite3 | 11.4      | 716           | 37.70%               |\n",
        "| EfficientDet-Lite4 | 19.9      | 1886          | 41.96%               |\n",
        "\n",
        "<i> * Size of the integer quantized models. <br/>\n",
        "** Latency measured on Raspberry Pi 4 using 4 threads on CPU. <br/>\n",
        "*** Average Precision is the mAP (mean Average Precision) on the COCO 2017 validation dataset.\n",
        "</i>\n",
        "\n",
        "In this notebook, we use EfficientDet-Lite0 to train our model. You can choose other model architectures depending on whether speed or accuracy is more important to you."
      ]
    },
    {
      "cell_type": "code",
      "execution_count": null,
      "metadata": {
        "id": "GZOojrDHAY1J"
      },
      "outputs": [],
      "source": [
        "spec = model_spec.get('efficientdet_lite1')"
      ]
    },
    {
      "cell_type": "markdown",
      "metadata": {
        "id": "5aeDU4mIM4ft"
      },
      "source": [
        "### Step 3: Train the TensorFlow model with the training data.\n",
        "\n",
        "* Set `epochs = 20`, which means it will go through the training dataset 20 times. You can look at the validation accuracy during training and stop when you see validation loss (`val_loss`) stop decreasing to avoid overfitting.\n",
        "* Set `batch_size = 4` here so you will see that it takes 15 steps to go through the 62 images in the training dataset.\n",
        "* Set `train_whole_model=True` to fine-tune the whole model instead of just training the head layer to improve accuracy. The trade-off is that it may take longer to train the model."
      ]
    },
    {
      "cell_type": "code",
      "execution_count": null,
      "metadata": {
        "colab": {
          "base_uri": "https://localhost:8080/"
        },
        "id": "_MClfpsJAfda",
        "outputId": "04971a8c-8779-43cf-f684-4b5a86c333ce"
      },
      "outputs": [
        {
          "output_type": "stream",
          "name": "stdout",
          "text": [
            "Epoch 1/20\n",
            "27/27 [==============================] - 49s 581ms/step - det_loss: 1.6440 - cls_loss: 1.0867 - box_loss: 0.0111 - reg_l2_loss: 0.0706 - loss: 1.7146 - learning_rate: 0.0065 - gradient_norm: 2.8506 - val_det_loss: 1.3402 - val_cls_loss: 0.9522 - val_box_loss: 0.0078 - val_reg_l2_loss: 0.0706 - val_loss: 1.4108\n",
            "Epoch 2/20\n",
            "27/27 [==============================] - 12s 468ms/step - det_loss: 1.2665 - cls_loss: 0.8259 - box_loss: 0.0088 - reg_l2_loss: 0.0706 - loss: 1.3371 - learning_rate: 0.0049 - gradient_norm: 4.1240 - val_det_loss: 0.6460 - val_cls_loss: 0.3756 - val_box_loss: 0.0054 - val_reg_l2_loss: 0.0706 - val_loss: 0.7167\n",
            "Epoch 3/20\n",
            "27/27 [==============================] - 12s 459ms/step - det_loss: 0.8556 - cls_loss: 0.5203 - box_loss: 0.0067 - reg_l2_loss: 0.0706 - loss: 0.9262 - learning_rate: 0.0048 - gradient_norm: 4.9807 - val_det_loss: 0.4719 - val_cls_loss: 0.2594 - val_box_loss: 0.0042 - val_reg_l2_loss: 0.0707 - val_loss: 0.5426\n",
            "Epoch 4/20\n",
            "27/27 [==============================] - 17s 629ms/step - det_loss: 0.6935 - cls_loss: 0.4052 - box_loss: 0.0058 - reg_l2_loss: 0.0707 - loss: 0.7641 - learning_rate: 0.0046 - gradient_norm: 4.4917 - val_det_loss: 0.5057 - val_cls_loss: 0.3259 - val_box_loss: 0.0036 - val_reg_l2_loss: 0.0707 - val_loss: 0.5764\n",
            "Epoch 5/20\n",
            "27/27 [==============================] - 20s 773ms/step - det_loss: 0.5894 - cls_loss: 0.3556 - box_loss: 0.0047 - reg_l2_loss: 0.0707 - loss: 0.6601 - learning_rate: 0.0043 - gradient_norm: 4.1533 - val_det_loss: 0.6194 - val_cls_loss: 0.4200 - val_box_loss: 0.0040 - val_reg_l2_loss: 0.0707 - val_loss: 0.6902\n",
            "Epoch 6/20\n",
            "27/27 [==============================] - 12s 452ms/step - det_loss: 0.5883 - cls_loss: 0.3450 - box_loss: 0.0049 - reg_l2_loss: 0.0707 - loss: 0.6590 - learning_rate: 0.0040 - gradient_norm: 5.1719 - val_det_loss: 0.5613 - val_cls_loss: 0.3762 - val_box_loss: 0.0037 - val_reg_l2_loss: 0.0707 - val_loss: 0.6321\n",
            "Epoch 7/20\n",
            "27/27 [==============================] - 13s 471ms/step - det_loss: 0.5477 - cls_loss: 0.3226 - box_loss: 0.0045 - reg_l2_loss: 0.0708 - loss: 0.6185 - learning_rate: 0.0037 - gradient_norm: 5.1144 - val_det_loss: 0.4581 - val_cls_loss: 0.2915 - val_box_loss: 0.0033 - val_reg_l2_loss: 0.0708 - val_loss: 0.5289\n",
            "Epoch 8/20\n",
            "27/27 [==============================] - 13s 471ms/step - det_loss: 0.4929 - cls_loss: 0.2970 - box_loss: 0.0039 - reg_l2_loss: 0.0708 - loss: 0.5637 - learning_rate: 0.0033 - gradient_norm: 5.0861 - val_det_loss: 0.3915 - val_cls_loss: 0.2654 - val_box_loss: 0.0025 - val_reg_l2_loss: 0.0708 - val_loss: 0.4623\n",
            "Epoch 9/20\n",
            "27/27 [==============================] - 12s 442ms/step - det_loss: 0.4040 - cls_loss: 0.2381 - box_loss: 0.0033 - reg_l2_loss: 0.0708 - loss: 0.4748 - learning_rate: 0.0029 - gradient_norm: 4.1075 - val_det_loss: 0.4006 - val_cls_loss: 0.2763 - val_box_loss: 0.0025 - val_reg_l2_loss: 0.0708 - val_loss: 0.4714\n",
            "Epoch 10/20\n",
            "27/27 [==============================] - 16s 599ms/step - det_loss: 0.4060 - cls_loss: 0.2451 - box_loss: 0.0032 - reg_l2_loss: 0.0708 - loss: 0.4768 - learning_rate: 0.0025 - gradient_norm: 4.4355 - val_det_loss: 0.5063 - val_cls_loss: 0.3451 - val_box_loss: 0.0032 - val_reg_l2_loss: 0.0708 - val_loss: 0.5771\n",
            "Epoch 11/20\n",
            "27/27 [==============================] - 12s 462ms/step - det_loss: 0.4457 - cls_loss: 0.2819 - box_loss: 0.0033 - reg_l2_loss: 0.0708 - loss: 0.5166 - learning_rate: 0.0021 - gradient_norm: 4.4260 - val_det_loss: 0.4450 - val_cls_loss: 0.3290 - val_box_loss: 0.0023 - val_reg_l2_loss: 0.0708 - val_loss: 0.5158\n",
            "Epoch 12/20\n",
            "27/27 [==============================] - 12s 443ms/step - det_loss: 0.3771 - cls_loss: 0.2385 - box_loss: 0.0028 - reg_l2_loss: 0.0708 - loss: 0.4479 - learning_rate: 0.0017 - gradient_norm: 3.9921 - val_det_loss: 0.5144 - val_cls_loss: 0.3674 - val_box_loss: 0.0029 - val_reg_l2_loss: 0.0708 - val_loss: 0.5852\n",
            "Epoch 13/20\n",
            "27/27 [==============================] - 14s 524ms/step - det_loss: 0.3452 - cls_loss: 0.2140 - box_loss: 0.0026 - reg_l2_loss: 0.0708 - loss: 0.4160 - learning_rate: 0.0013 - gradient_norm: 3.7199 - val_det_loss: 0.4886 - val_cls_loss: 0.3437 - val_box_loss: 0.0029 - val_reg_l2_loss: 0.0708 - val_loss: 0.5594\n",
            "Epoch 14/20\n",
            "27/27 [==============================] - 12s 467ms/step - det_loss: 0.3601 - cls_loss: 0.2220 - box_loss: 0.0028 - reg_l2_loss: 0.0708 - loss: 0.4309 - learning_rate: 9.6675e-04 - gradient_norm: 4.2431 - val_det_loss: 0.4696 - val_cls_loss: 0.3406 - val_box_loss: 0.0026 - val_reg_l2_loss: 0.0708 - val_loss: 0.5404\n",
            "Epoch 15/20\n",
            "27/27 [==============================] - 16s 604ms/step - det_loss: 0.3496 - cls_loss: 0.2220 - box_loss: 0.0026 - reg_l2_loss: 0.0708 - loss: 0.4205 - learning_rate: 6.6328e-04 - gradient_norm: 4.5252 - val_det_loss: 0.4681 - val_cls_loss: 0.3399 - val_box_loss: 0.0026 - val_reg_l2_loss: 0.0708 - val_loss: 0.5390\n",
            "Epoch 16/20\n",
            "27/27 [==============================] - 12s 452ms/step - det_loss: 0.3169 - cls_loss: 0.2055 - box_loss: 0.0022 - reg_l2_loss: 0.0708 - loss: 0.3877 - learning_rate: 4.0991e-04 - gradient_norm: 3.7560 - val_det_loss: 0.4076 - val_cls_loss: 0.2975 - val_box_loss: 0.0022 - val_reg_l2_loss: 0.0708 - val_loss: 0.4784\n",
            "Epoch 17/20\n",
            "27/27 [==============================] - 12s 458ms/step - det_loss: 0.3569 - cls_loss: 0.2254 - box_loss: 0.0026 - reg_l2_loss: 0.0708 - loss: 0.4277 - learning_rate: 2.1355e-04 - gradient_norm: 4.2592 - val_det_loss: 0.3684 - val_cls_loss: 0.2621 - val_box_loss: 0.0021 - val_reg_l2_loss: 0.0708 - val_loss: 0.4392\n",
            "Epoch 18/20\n",
            "27/27 [==============================] - 15s 577ms/step - det_loss: 0.3237 - cls_loss: 0.2057 - box_loss: 0.0024 - reg_l2_loss: 0.0708 - loss: 0.3945 - learning_rate: 7.9555e-05 - gradient_norm: 3.5564 - val_det_loss: 0.3658 - val_cls_loss: 0.2588 - val_box_loss: 0.0021 - val_reg_l2_loss: 0.0708 - val_loss: 0.4367\n",
            "Epoch 19/20\n",
            "27/27 [==============================] - 16s 606ms/step - det_loss: 0.3399 - cls_loss: 0.2163 - box_loss: 0.0025 - reg_l2_loss: 0.0708 - loss: 0.4108 - learning_rate: 1.1588e-05 - gradient_norm: 4.2924 - val_det_loss: 0.3680 - val_cls_loss: 0.2584 - val_box_loss: 0.0022 - val_reg_l2_loss: 0.0708 - val_loss: 0.4388\n",
            "Epoch 20/20\n",
            "27/27 [==============================] - 16s 594ms/step - det_loss: 0.3495 - cls_loss: 0.2260 - box_loss: 0.0025 - reg_l2_loss: 0.0708 - loss: 0.4203 - learning_rate: 1.1498e-05 - gradient_norm: 4.0323 - val_det_loss: 0.3737 - val_cls_loss: 0.2626 - val_box_loss: 0.0022 - val_reg_l2_loss: 0.0708 - val_loss: 0.4445\n"
          ]
        }
      ],
      "source": [
        "model = object_detector.create(train_data, model_spec=spec, batch_size=4, train_whole_model=True, epochs=20, validation_data=val_data)"
      ]
    },
    {
      "cell_type": "markdown",
      "metadata": {
        "id": "KB4hKeerMmh4"
      },
      "source": [
        "### Step 4. Evaluate the model with the validation data.\n",
        "\n",
        "After training the object detection model using the images in the training dataset, use the 10 images in the validation dataset to evaluate how the model performs against new data it has never seen before.\n",
        "\n",
        "As the default batch size is 64, it will take 1 step to go through the 10 images in the validation dataset.\n",
        "\n",
        "The evaluation metrics are same as [COCO](https://cocodataset.org/#detection-eval)."
      ]
    },
    {
      "cell_type": "code",
      "execution_count": null,
      "metadata": {
        "colab": {
          "base_uri": "https://localhost:8080/"
        },
        "id": "OUqEpcYwAg8L",
        "outputId": "8aebef23-4a6d-4f1d-e004-2c94cdf5c256"
      },
      "outputs": [
        {
          "output_type": "stream",
          "name": "stdout",
          "text": [
            "\r1/1 [==============================] - 8s 8s/step\n",
            "\n"
          ]
        },
        {
          "output_type": "execute_result",
          "data": {
            "text/plain": [
              "{'AP': 0.6638197,\n",
              " 'AP50': 0.85678923,\n",
              " 'AP75': 0.7326733,\n",
              " 'APs': -1.0,\n",
              " 'APm': -1.0,\n",
              " 'APl': 0.66383123,\n",
              " 'ARmax1': 0.6826087,\n",
              " 'ARmax10': 0.7,\n",
              " 'ARmax100': 0.70434785,\n",
              " 'ARs': -1.0,\n",
              " 'ARm': -1.0,\n",
              " 'ARl': 0.70434785,\n",
              " 'AP_/grass': 0.6638197}"
            ]
          },
          "metadata": {},
          "execution_count": 83
        }
      ],
      "source": [
        "model.evaluate(val_data)"
      ]
    },
    {
      "cell_type": "code",
      "source": [
        "tflite_name='grass1.tflite'"
      ],
      "metadata": {
        "id": "zHn4pEnt-nsr"
      },
      "execution_count": null,
      "outputs": []
    },
    {
      "cell_type": "markdown",
      "metadata": {
        "id": "NARVYk9rGLIl"
      },
      "source": [
        "### Step 5: Export as a TensorFlow Lite model.\n",
        "\n",
        "Export the trained object detection model to the TensorFlow Lite format by specifying which folder you want to export the quantized model to. The default post-training quantization technique is [full integer quantization](https://www.tensorflow.org/lite/performance/post_training_integer_quant). This allows the TensorFlow Lite model to be smaller, run faster on Raspberry Pi CPU and also compatible with the Google Coral EdgeTPU."
      ]
    },
    {
      "cell_type": "code",
      "execution_count": null,
      "metadata": {
        "id": "_u3eFxoBAiqE"
      },
      "outputs": [],
      "source": [
        "model.export(export_dir='.', tflite_filename=tflite_name)"
      ]
    },
    {
      "cell_type": "markdown",
      "metadata": {
        "id": "JZcBmEigOCO3"
      },
      "source": [
        "### Step 6:  Evaluate the TensorFlow Lite model.\n",
        "\n",
        "Several factors can affect the model accuracy when exporting to TFLite:\n",
        "* [Quantization](https://www.tensorflow.org/lite/performance/model_optimization) helps shrinking the model size by 4 times at the expense of some accuracy drop.\n",
        "* The original TensorFlow model uses per-class [non-max supression (NMS)](https://www.coursera.org/lecture/convolutional-neural-networks/non-max-suppression-dvrjH) for post-processing, while the TFLite model uses global NMS that's much faster but less accurate.\n",
        "Keras outputs maximum 100 detections while tflite outputs maximum 25 detections.\n",
        "\n",
        "Therefore you'll have to evaluate the exported TFLite model and compare its accuracy with the original TensorFlow model."
      ]
    },
    {
      "cell_type": "code",
      "execution_count": null,
      "metadata": {
        "colab": {
          "base_uri": "https://localhost:8080/"
        },
        "id": "Jbl8z9_wBPlr",
        "outputId": "bf621018-a8ec-448e-cec8-0148f22eda2b"
      },
      "outputs": [
        {
          "output_type": "stream",
          "name": "stdout",
          "text": [
            "23/23 [==============================] - 121s 5s/step\n",
            "\n"
          ]
        },
        {
          "output_type": "execute_result",
          "data": {
            "text/plain": [
              "{'AP': 0.6731102,\n",
              " 'AP50': 0.8890146,\n",
              " 'AP75': 0.7326733,\n",
              " 'APs': -1.0,\n",
              " 'APm': -1.0,\n",
              " 'APl': 0.6731102,\n",
              " 'ARmax1': 0.6869565,\n",
              " 'ARmax10': 0.70434785,\n",
              " 'ARmax100': 0.70434785,\n",
              " 'ARs': -1.0,\n",
              " 'ARm': -1.0,\n",
              " 'ARl': 0.70434785,\n",
              " 'AP_/grass': 0.6731102}"
            ]
          },
          "metadata": {},
          "execution_count": 86
        }
      ],
      "source": [
        "model.evaluate_tflite(tflite_name, val_data)"
      ]
    },
    {
      "cell_type": "code",
      "execution_count": null,
      "metadata": {
        "colab": {
          "base_uri": "https://localhost:8080/",
          "height": 17
        },
        "id": "v7zgUkdOUUnD",
        "outputId": "51096d26-5c44-4ed8-ea42-7ca735fdb50d"
      },
      "outputs": [
        {
          "output_type": "display_data",
          "data": {
            "text/plain": [
              "<IPython.core.display.Javascript object>"
            ],
            "application/javascript": [
              "\n",
              "    async function download(id, filename, size) {\n",
              "      if (!google.colab.kernel.accessAllowed) {\n",
              "        return;\n",
              "      }\n",
              "      const div = document.createElement('div');\n",
              "      const label = document.createElement('label');\n",
              "      label.textContent = `Downloading \"${filename}\": `;\n",
              "      div.appendChild(label);\n",
              "      const progress = document.createElement('progress');\n",
              "      progress.max = size;\n",
              "      div.appendChild(progress);\n",
              "      document.body.appendChild(div);\n",
              "\n",
              "      const buffers = [];\n",
              "      let downloaded = 0;\n",
              "\n",
              "      const channel = await google.colab.kernel.comms.open(id);\n",
              "      // Send a message to notify the kernel that we're ready.\n",
              "      channel.send({})\n",
              "\n",
              "      for await (const message of channel.messages) {\n",
              "        // Send a message to notify the kernel that we're ready.\n",
              "        channel.send({})\n",
              "        if (message.buffers) {\n",
              "          for (const buffer of message.buffers) {\n",
              "            buffers.push(buffer);\n",
              "            downloaded += buffer.byteLength;\n",
              "            progress.value = downloaded;\n",
              "          }\n",
              "        }\n",
              "      }\n",
              "      const blob = new Blob(buffers, {type: 'application/binary'});\n",
              "      const a = document.createElement('a');\n",
              "      a.href = window.URL.createObjectURL(blob);\n",
              "      a.download = filename;\n",
              "      div.appendChild(a);\n",
              "      a.click();\n",
              "      div.remove();\n",
              "    }\n",
              "  "
            ]
          },
          "metadata": {}
        },
        {
          "output_type": "display_data",
          "data": {
            "text/plain": [
              "<IPython.core.display.Javascript object>"
            ],
            "application/javascript": [
              "download(\"download_f9a281c6-5bfd-4ca0-9d02-eb19bc1ad36a\", \"grass.tflite\", 7390788)"
            ]
          },
          "metadata": {}
        }
      ],
      "source": [
        "# Download the TFLite model to your local computer.\n",
        "from google.colab import files\n",
        "files.download(tflite_name)"
      ]
    }
  ],
  "metadata": {
    "accelerator": "GPU",
    "colab": {
      "provenance": []
    },
    "kernelspec": {
      "display_name": "Python 3",
      "name": "python3"
    },
    "language_info": {
      "name": "python"
    },
    "gpuClass": "standard"
  },
  "nbformat": 4,
  "nbformat_minor": 0
}